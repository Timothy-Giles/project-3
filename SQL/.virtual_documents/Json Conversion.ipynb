


import csv
import json
import re

# Path to the CSV file
csv_file_path = 'Electric_Vehicle_Population_Data_sql.csv'
# Path to the JSON file
json_file_path = 'cleaned_data.json'

# Function to reformat the Vehicle_Location
def reformat_location(location):
    match = re.match(r'POINT \((-?\d+\.\d+) (-?\d+\.\d+)\)', location)
    if match:
        return f"({match.group(1)},{match.group(2)})"
    return location

# Read the CSV and add the data to a dictionary
data = []
with open(csv_file_path, encoding='utf-8') as csv_file:
    csv_reader = csv.DictReader(csv_file)
    for row in csv_reader:
        if 'vehicle_location' in row:
            row['vehicle_location'] = reformat_location(row['vehicle_location'])
        data.append(row)

# Write the data to a JSON file
with open(json_file_path, 'w', encoding='utf-8') as json_file:
    json.dump(data, json_file, indent=4)

print(f"Data has been converted to JSON and saved to {json_file_path}")



















