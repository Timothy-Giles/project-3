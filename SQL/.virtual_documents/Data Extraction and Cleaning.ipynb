


# Dependencies and Setup
import pandas as pd
from pathlib import Path

# File to Load (Remember to Change These)
data_to_load = Path("Resources/Electric_Vehicle_Population_Data.csv")

# Read Data and store to pandas
ev_data = pd.read_csv(data_to_load)

# Checking the data type of each column
ev_data.info()







# Strip any leading/trailing spaces from column names
ev_data.columns = ev_data.columns.str.strip()

# Display the cleaned column names
print(ev_data.columns)

# Drop rows with any missing values
ev_data = ev_data.dropna()

# Ensure data types match the table schema
ev_data['VIN'] = ev_data['VIN'].astype(str)
ev_data['County'] = ev_data['County'].astype(str)
ev_data['City'] = ev_data['City'].astype(str)
ev_data['State'] = ev_data['State'].astype(str)
ev_data['Postal_Code'] = ev_data['Postal_Code'].astype(float)
ev_data['Model_Year'] = ev_data['Model_Year'].astype(int)
ev_data['Make'] = ev_data['Make'].astype(str)
ev_data['Model'] = ev_data['Model'].astype(str)
ev_data['Electric_Vehicle_Type'] = ev_data['Electric_Vehicle_Type'].astype(str)
ev_data['CAFV_Eligibility'] = ev_data['CAFV_Eligibility'].astype(str)
ev_data['Electric_Range'] = ev_data['Electric_Range'].astype(int)
ev_data['Base_MSRP'] = ev_data['Base_MSRP'].astype(int)
ev_data['Legislative_District'] = ev_data['Legislative_District'].astype(float)
ev_data['DOL_Vehicle_ID'] = ev_data['DOL_Vehicle_ID'].astype(int)
ev_data['Vehicle_Location'] = ev_data['Vehicle_Location'].astype(str)
ev_data['Electric_Utility'] = ev_data['Electric_Utility'].astype(str)
ev_data['Census_Tract'] = ev_data['Census_Tract'].astype(float)

# Check for any duplicates in the primary key column (VIN)
ev_data = ev_data.drop_duplicates(subset=['VIN'])

# Export the cleaned and formatted data back to a CSV file
output_file_path = 'Cleaned_Electric_Vehicle_Population_Data.csv'
ev_data.to_csv(output_file_path, index=False)

print(f"Cleaned data has been exported to {output_file_path}")



















