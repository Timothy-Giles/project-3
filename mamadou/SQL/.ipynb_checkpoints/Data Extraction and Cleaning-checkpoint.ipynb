{
 "cells": [
  {
   "attachments": {},
   "cell_type": "markdown",
   "metadata": {},
   "source": [
    "# PyCity Schools Analysis\n",
    "\n",
    "- Your analysis here\n",
    "  \n",
    "---"
   ]
  },
  {
   "cell_type": "code",
   "execution_count": 1,
   "metadata": {},
   "outputs": [
    {
     "name": "stdout",
     "output_type": "stream",
     "text": [
      "<class 'pandas.core.frame.DataFrame'>\n",
      "RangeIndex: 191407 entries, 0 to 191406\n",
      "Data columns (total 17 columns):\n",
      " #   Column                 Non-Null Count   Dtype  \n",
      "---  ------                 --------------   -----  \n",
      " 0   VIN                    191407 non-null  object \n",
      " 1   County                 191403 non-null  object \n",
      " 2   City                   191403 non-null  object \n",
      " 3   State                  191407 non-null  object \n",
      " 4   Postal_Code            191403 non-null  float64\n",
      " 5   Model_Year             191407 non-null  int64  \n",
      " 6   Make                   191407 non-null  object \n",
      " 7   Model                  191407 non-null  object \n",
      " 8   Electric_Vehicle_Type  191407 non-null  object \n",
      " 9   CAFV_Eligibility       191407 non-null  object \n",
      " 10  Electric_Range         191407 non-null  int64  \n",
      " 11  Base_MSRP              191407 non-null  int64  \n",
      " 12  Legislative_District   190993 non-null  float64\n",
      " 13  DOL_Vehicle_ID         191407 non-null  int64  \n",
      " 14  Vehicle_Location       191399 non-null  object \n",
      " 15  Electric_Utility       191403 non-null  object \n",
      " 16  Census_Tract           191403 non-null  float64\n",
      "dtypes: float64(3), int64(4), object(10)\n",
      "memory usage: 24.8+ MB\n"
     ]
    }
   ],
   "source": [
    "# Dependencies and Setup\n",
    "import pandas as pd\n",
    "from pathlib import Path\n",
    "\n",
    "# File to Load (Remember to Change These)\n",
    "data_to_load = Path(\"Resources/Electric_Vehicle_Population_Data.csv\")\n",
    "\n",
    "# Read Data and store to pandas\n",
    "ev_data = pd.read_csv(data_to_load)\n",
    "\n",
    "# Checking the data type of each column\n",
    "ev_data.info()\n",
    "\n"
   ]
  },
  {
   "cell_type": "markdown",
   "metadata": {},
   "source": [
    "## Cleaning the data"
   ]
  },
  {
   "cell_type": "code",
   "execution_count": 2,
   "metadata": {},
   "outputs": [
    {
     "name": "stdout",
     "output_type": "stream",
     "text": [
      "Index(['VIN', 'County', 'City', 'State', 'Postal_Code', 'Model_Year', 'Make',\n",
      "       'Model', 'Electric_Vehicle_Type', 'CAFV_Eligibility', 'Electric_Range',\n",
      "       'Base_MSRP', 'Legislative_District', 'DOL_Vehicle_ID',\n",
      "       'Vehicle_Location', 'Electric_Utility', 'Census_Tract'],\n",
      "      dtype='object')\n",
      "Cleaned data has been exported to Cleaned_Electric_Vehicle_Population_Data.csv\n"
     ]
    }
   ],
   "source": [
    "# Strip any leading/trailing spaces from column names\n",
    "ev_data.columns = ev_data.columns.str.strip()\n",
    "\n",
    "# Display the cleaned column names\n",
    "print(ev_data.columns)\n",
    "\n",
    "# Drop rows with any missing values\n",
    "ev_data = ev_data.dropna()\n",
    "\n",
    "# Ensure data types match the table schema\n",
    "ev_data['VIN'] = ev_data['VIN'].astype(str)\n",
    "ev_data['County'] = ev_data['County'].astype(str)\n",
    "ev_data['City'] = ev_data['City'].astype(str)\n",
    "ev_data['State'] = ev_data['State'].astype(str)\n",
    "ev_data['Postal_Code'] = ev_data['Postal_Code'].astype(float)\n",
    "ev_data['Model_Year'] = ev_data['Model_Year'].astype(int)\n",
    "ev_data['Make'] = ev_data['Make'].astype(str)\n",
    "ev_data['Model'] = ev_data['Model'].astype(str)\n",
    "ev_data['Electric_Vehicle_Type'] = ev_data['Electric_Vehicle_Type'].astype(str)\n",
    "ev_data['CAFV_Eligibility'] = ev_data['CAFV_Eligibility'].astype(str)\n",
    "ev_data['Electric_Range'] = ev_data['Electric_Range'].astype(int)\n",
    "ev_data['Base_MSRP'] = ev_data['Base_MSRP'].astype(int)\n",
    "ev_data['Legislative_District'] = ev_data['Legislative_District'].astype(float)\n",
    "ev_data['DOL_Vehicle_ID'] = ev_data['DOL_Vehicle_ID'].astype(int)\n",
    "ev_data['Vehicle_Location'] = ev_data['Vehicle_Location'].astype(str)\n",
    "ev_data['Electric_Utility'] = ev_data['Electric_Utility'].astype(str)\n",
    "ev_data['Census_Tract'] = ev_data['Census_Tract'].astype(float)\n",
    "\n",
    "# Check for any duplicates in the primary key column (VIN)\n",
    "ev_data = ev_data.drop_duplicates(subset=['VIN'])\n",
    "\n",
    "# Export the cleaned and formatted data back to a CSV file\n",
    "output_file_path = 'Cleaned_Electric_Vehicle_Population_Data.csv'\n",
    "ev_data.to_csv(output_file_path, index=False)\n",
    "\n",
    "print(f\"Cleaned data has been exported to {output_file_path}\")\n"
   ]
  },
  {
   "cell_type": "code",
   "execution_count": null,
   "metadata": {},
   "outputs": [],
   "source": []
  },
  {
   "cell_type": "code",
   "execution_count": null,
   "metadata": {},
   "outputs": [],
   "source": []
  },
  {
   "cell_type": "code",
   "execution_count": null,
   "metadata": {},
   "outputs": [],
   "source": []
  },
  {
   "cell_type": "code",
   "execution_count": null,
   "metadata": {},
   "outputs": [],
   "source": []
  },
  {
   "cell_type": "code",
   "execution_count": null,
   "metadata": {},
   "outputs": [],
   "source": []
  },
  {
   "cell_type": "code",
   "execution_count": null,
   "metadata": {},
   "outputs": [],
   "source": []
  }
 ],
 "metadata": {
  "anaconda-cloud": {},
  "kernel_info": {
   "name": "python3"
  },
  "kernelspec": {
   "display_name": "Python 3 (ipykernel)",
   "language": "python",
   "name": "python3"
  },
  "language_info": {
   "codemirror_mode": {
    "name": "ipython",
    "version": 3
   },
   "file_extension": ".py",
   "mimetype": "text/x-python",
   "name": "python",
   "nbconvert_exporter": "python",
   "pygments_lexer": "ipython3",
   "version": "3.11.7"
  },
  "latex_envs": {
   "LaTeX_envs_menu_present": true,
   "autoclose": false,
   "autocomplete": true,
   "bibliofile": "biblio.bib",
   "cite_by": "apalike",
   "current_citInitial": 1,
   "eqLabelWithNumbers": true,
   "eqNumInitial": 1,
   "hotkeys": {
    "equation": "Ctrl-E",
    "itemize": "Ctrl-I"
   },
   "labels_anchors": false,
   "latex_user_defs": false,
   "report_style_numbering": false,
   "user_envs_cfg": false
  },
  "nteract": {
   "version": "0.8.4"
  },
  "vscode": {
   "interpreter": {
    "hash": "5384d77d82de63fd599f73e77f9ec786e7719288bf80a29ec0288c670ac3cf32"
   }
  }
 },
 "nbformat": 4,
 "nbformat_minor": 4
}
